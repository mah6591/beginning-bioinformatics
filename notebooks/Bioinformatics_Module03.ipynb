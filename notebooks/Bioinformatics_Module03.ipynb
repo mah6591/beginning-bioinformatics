{
  "nbformat": 4,
  "nbformat_minor": 0,
  "metadata": {
    "colab": {
      "provenance": [],
      "collapsed_sections": [
        "jYlnA2Z2FhoW",
        "qRj8vCvXG-1k",
        "s7deJQCHHwOa",
        "GtjxkNHWN5Xo",
        "3yswDberkE7N",
        "4IM-9eAGkPdi",
        "nlBbe3qBRH_J",
        "_F9KCUzCd3ID",
        "iHFNxm30lzic",
        "sOgq54Op4MZL",
        "R5_dYi9f6t1z",
        "LdtXZ0LW9ugo",
        "i4Fo-ddSKWwy",
        "iupO8iI-ZYAe",
        "lY924yM0jckW",
        "NvqGEl4JjpiO",
        "DHzE7CI4lWGw",
        "WD5wnvQkmh6E",
        "kApNvgOLn8lp",
        "kq9QbEttnA4h"
      ],
      "include_colab_link": true
    },
    "kernelspec": {
      "name": "python3",
      "display_name": "Python 3"
    },
    "language_info": {
      "name": "python"
    }
  },
  "cells": [
    {
      "cell_type": "markdown",
      "metadata": {
        "id": "view-in-github",
        "colab_type": "text"
      },
      "source": [
        "<a href=\"https://colab.research.google.com/github/mah6591/beginning-bioinformatics/blob/main/notebooks/Bioinformatics_Module03.ipynb\" target=\"_parent\"><img src=\"https://colab.research.google.com/assets/colab-badge.svg\" alt=\"Open In Colab\"/></a>"
      ]
    },
    {
      "cell_type": "markdown",
      "source": [
        "# **<font color=blue>P1.** </font>Rename this notebook **Bioinformatics_Module03.ipynb </font><br>**"
      ],
      "metadata": {
        "id": "l3h89jAYBUzz"
      }
    },
    {
      "cell_type": "markdown",
      "source": [
        "# **<font color=blue>P2. </font>**```print()```writes to standard output (i.e. prints output to the screen)"
      ],
      "metadata": {
        "id": "jYlnA2Z2FhoW"
      }
    },
    {
      "cell_type": "markdown",
      "source": [
        "####**TASK P2.1:** Print <font color = magenta>hello world</font>"
      ],
      "metadata": {
        "id": "r118fqQodA9x"
      }
    },
    {
      "cell_type": "code",
      "source": [
        "print(\"hello world\")"
      ],
      "metadata": {
        "id": "kvxK8D5uFx_x",
        "outputId": "7f84146b-276f-46cc-adf6-9fde9abfc314",
        "colab": {
          "base_uri": "https://localhost:8080/"
        }
      },
      "execution_count": null,
      "outputs": [
        {
          "output_type": "stream",
          "name": "stdout",
          "text": [
            "hello world\n"
          ]
        }
      ]
    },
    {
      "cell_type": "markdown",
      "source": [
        "# **<font color=blue>P3. </font>**```=``` is the ASSIGNMENT operator (assigns values to variables)\n",
        "####**TASK P3.1:** Ask Gemini, \"*Give me 3 examples to help practice understanding the assignment operator.*\""
      ],
      "metadata": {
        "id": "qRj8vCvXG-1k"
      }
    },
    {
      "cell_type": "code",
      "source": [
        "x=5\n",
        "x"
      ],
      "metadata": {
        "id": "VB8HPNe7JpuJ"
      },
      "execution_count": null,
      "outputs": []
    },
    {
      "cell_type": "markdown",
      "source": [
        "# **<font color=blue>P4. </font>** Data types: use ```type()``` to find a variable's \"type\"\n",
        "####**TASK P4.1:** Ask Gemini, \"*Give me examples of each data type to see how they look as outputs.*\""
      ],
      "metadata": {
        "id": "s7deJQCHHwOa"
      }
    },
    {
      "cell_type": "code",
      "source": [
        "type(x))"
      ],
      "metadata": {
        "colab": {
          "base_uri": "https://localhost:8080/"
        },
        "id": "ktR75uWIJ0uc",
        "outputId": "3a13d830-94ae-49a8-8f1f-16d97cd46292"
      },
      "execution_count": null,
      "outputs": [
        {
          "output_type": "execute_result",
          "data": {
            "text/plain": [
              "int"
            ]
          },
          "metadata": {},
          "execution_count": 20
        }
      ]
    },
    {
      "cell_type": "markdown",
      "source": [
        "# **<font color=blue>P5. </font>** Arithmetic and comparison operators\n",
        "####**TASK P5.1:**   Complete Rosalind #1"
      ],
      "metadata": {
        "id": "GtjxkNHWN5Xo"
      }
    },
    {
      "cell_type": "code",
      "source": [
        "y=2+3\n",
        "print(y)\n",
        "x==y"
      ],
      "metadata": {
        "id": "45s9c4vyQm2U",
        "colab": {
          "base_uri": "https://localhost:8080/",
          "height": 193
        },
        "outputId": "e242e2af-0f7f-4dc9-d790-8bacc3562ab1"
      },
      "execution_count": null,
      "outputs": [
        {
          "output_type": "stream",
          "name": "stdout",
          "text": [
            "5\n"
          ]
        },
        {
          "output_type": "error",
          "ename": "NameError",
          "evalue": "name 'x' is not defined",
          "traceback": [
            "\u001b[0;31m---------------------------------------------------------------------------\u001b[0m",
            "\u001b[0;31mNameError\u001b[0m                                 Traceback (most recent call last)",
            "\u001b[0;32m/tmp/ipython-input-1003253753.py\u001b[0m in \u001b[0;36m<cell line: 0>\u001b[0;34m()\u001b[0m\n\u001b[1;32m      1\u001b[0m \u001b[0my\u001b[0m\u001b[0;34m=\u001b[0m\u001b[0;36m2\u001b[0m\u001b[0;34m+\u001b[0m\u001b[0;36m3\u001b[0m\u001b[0;34m\u001b[0m\u001b[0;34m\u001b[0m\u001b[0m\n\u001b[1;32m      2\u001b[0m \u001b[0mprint\u001b[0m\u001b[0;34m(\u001b[0m\u001b[0my\u001b[0m\u001b[0;34m)\u001b[0m\u001b[0;34m\u001b[0m\u001b[0;34m\u001b[0m\u001b[0m\n\u001b[0;32m----> 3\u001b[0;31m \u001b[0mx\u001b[0m\u001b[0;34m==\u001b[0m\u001b[0my\u001b[0m\u001b[0;34m\u001b[0m\u001b[0;34m\u001b[0m\u001b[0m\n\u001b[0m",
            "\u001b[0;31mNameError\u001b[0m: name 'x' is not defined"
          ]
        }
      ]
    },
    {
      "cell_type": "markdown",
      "source": [
        "# **<font color=blue>P6. </font>** ```input()``` gets input from the user"
      ],
      "metadata": {
        "id": "3yswDberkE7N"
      }
    },
    {
      "cell_type": "markdown",
      "source": [
        "TASK P6.1"
      ],
      "metadata": {
        "id": "z97rSY9gqdad"
      }
    },
    {
      "cell_type": "code",
      "metadata": {
        "colab": {
          "base_uri": "https://localhost:8080/"
        },
        "id": "d91046dd",
        "outputId": "0f211582-a994-4e4d-dd5e-38e5135f65fd"
      },
      "source": [
        "name = input(\"Enter your name: \")\n",
        "print(\"Hello, \" + name)"
      ],
      "execution_count": null,
      "outputs": [
        {
          "output_type": "stream",
          "name": "stdout",
          "text": [
            "Enter your name: Mohammad\n",
            "Hello, Mohammad\n"
          ]
        }
      ]
    },
    {
      "cell_type": "markdown",
      "source": [
        "####**TASK P6.1:** Solve Rosalind #1 again, but get user input for the values of a and b rather than modifying the code."
      ],
      "metadata": {
        "id": "e3LaAQeLRmE6"
      }
    },
    {
      "cell_type": "code",
      "source": [
        "a= int(input(\"enter a value for a:\"))\n",
        "b= int(input(\"enter a value for b:\"))\n",
        "c=a**2+b**2\n",
        "print (\"The sq of the hypotenuse is\",c)"
      ],
      "metadata": {
        "id": "wZ0XL0L6Rq2H",
        "colab": {
          "base_uri": "https://localhost:8080/"
        },
        "outputId": "c6529859-275f-4f4c-bcde-152485b2a3e3"
      },
      "execution_count": null,
      "outputs": [
        {
          "output_type": "stream",
          "name": "stdout",
          "text": [
            "enter a value for a:814\n",
            "enter a value for b:818\n",
            "The sq of the hypotenuse is 1331720\n"
          ]
        }
      ]
    },
    {
      "cell_type": "markdown",
      "source": [
        "# **<font color=blue>P7. </font>** ```list``` type variables (create, replace, append)"
      ],
      "metadata": {
        "id": "4IM-9eAGkPdi"
      }
    },
    {
      "cell_type": "markdown",
      "source": [
        "####**TASK P7.1**"
      ],
      "metadata": {
        "id": "DhNGdYK6NEpe"
      }
    },
    {
      "cell_type": "code",
      "source": [
        "# Create a list with 3 elements and then print them\n",
        "\n",
        "my_list = [\"Hello\", \"World\", \"Charles Darwin\"]\n",
        "print (my_list[1])"
      ],
      "metadata": {
        "id": "N3VRRQIEkXuP",
        "colab": {
          "base_uri": "https://localhost:8080/"
        },
        "outputId": "6c7dc25e-524e-4f80-d55d-4f92f62cc170"
      },
      "execution_count": null,
      "outputs": [
        {
          "output_type": "stream",
          "name": "stdout",
          "text": [
            "World\n"
          ]
        }
      ]
    },
    {
      "cell_type": "markdown",
      "source": [
        "####**TASK P7.2**"
      ],
      "metadata": {
        "id": "Yn3bAoi8NKy5"
      }
    },
    {
      "cell_type": "code",
      "source": [
        "# Substitute the item at index 2 in the list\n",
        "my_list[2] = \"Alfred R. Wallace\"\n",
        "print (my_list)"
      ],
      "metadata": {
        "id": "WNnsUuduOKbI",
        "colab": {
          "base_uri": "https://localhost:8080/"
        },
        "outputId": "3fc9a90c-a17b-4220-e464-8cc14877dc93"
      },
      "execution_count": null,
      "outputs": [
        {
          "output_type": "stream",
          "name": "stdout",
          "text": [
            "['Hello', 'World', 'Alfred R. Wallace']\n"
          ]
        }
      ]
    },
    {
      "cell_type": "markdown",
      "source": [
        "####**TASK P7.3**"
      ],
      "metadata": {
        "id": "SxiMMNLyPwGV"
      }
    },
    {
      "cell_type": "code",
      "source": [
        "# Append an item to the end of the list\n",
        "my_list.append(\"Charles Darwin\")\n",
        "print (my_list)"
      ],
      "metadata": {
        "id": "3VrLc6CGQTi-",
        "colab": {
          "base_uri": "https://localhost:8080/"
        },
        "outputId": "b90b80de-54df-4ffd-bb9c-2b9ce45d79fd"
      },
      "execution_count": null,
      "outputs": [
        {
          "output_type": "stream",
          "name": "stdout",
          "text": [
            "['Hello', 'World', 'Alfred R. Wallace', 'Charles Darwin']\n"
          ]
        }
      ]
    },
    {
      "cell_type": "markdown",
      "source": [
        "####**TASK P7.4**. Ask Gemini how to <font color=crimson>```insert```</font> a new item at index 1 in the list"
      ],
      "metadata": {
        "id": "XQKmwgbfQond"
      }
    },
    {
      "cell_type": "code",
      "source": [
        "# On line #2 insert an item at index 1 of my_list\n",
        "\n",
        "print (my_list)\n",
        "\n",
        "my_list.insert (1, \"Robert Hooke\")"
      ],
      "metadata": {
        "id": "u0maP5CZZN13",
        "colab": {
          "base_uri": "https://localhost:8080/"
        },
        "outputId": "61ff7141-5b52-4a33-b869-6856cfb6b46c"
      },
      "execution_count": null,
      "outputs": [
        {
          "output_type": "stream",
          "name": "stdout",
          "text": [
            "['Hello', 'Robert Hooke', 'World', 'Alfred R. Wallace', 'Charles Darwin']\n"
          ]
        }
      ]
    },
    {
      "cell_type": "markdown",
      "source": [
        "# **<font color=blue>P8. </font>** Slicing lists and strings"
      ],
      "metadata": {
        "id": "nlBbe3qBRH_J"
      }
    },
    {
      "cell_type": "markdown",
      "source": [
        "####**TASK P8.1** Slice and print only the middle two elements from the list created in P7 (i.e. only <font color=magenta>World</font> and <font color=magenta>Alfred R. Wallace</font>).  "
      ],
      "metadata": {
        "id": "M0YW2MP0WtuI"
      }
    },
    {
      "cell_type": "code",
      "source": [
        "print (my_list[3:5])"
      ],
      "metadata": {
        "colab": {
          "base_uri": "https://localhost:8080/"
        },
        "id": "Tp1djNtiaxSb",
        "outputId": "cb3fff3b-d488-4d94-a5cb-ca9c77a8034e"
      },
      "execution_count": null,
      "outputs": [
        {
          "output_type": "stream",
          "name": "stdout",
          "text": [
            "['World', 'Alfred R. Wallace']\n"
          ]
        }
      ]
    },
    {
      "cell_type": "markdown",
      "source": [
        "####**TASK P8.2**: Print <font color=magenta>Wallace World</font> from **my_string** by slicing\n"
      ],
      "metadata": {
        "id": "_F9KCUzCd3ID"
      }
    },
    {
      "cell_type": "code",
      "source": [
        "my_string = \"HelloWorldCharlesDarwinAlfred R. Wallace\"\n",
        "print (my_string[0:5],my_string[5:10])\n",
        "\n",
        "# in the print command below input the correct index values to complete Task P8.2\n",
        "print (my_string[33:40],my_string[5:10 ])"
      ],
      "metadata": {
        "colab": {
          "base_uri": "https://localhost:8080/"
        },
        "id": "AafKngtba8En",
        "outputId": "5bf425aa-d3f2-4313-caba-7f9fe413c8a2"
      },
      "execution_count": null,
      "outputs": [
        {
          "output_type": "stream",
          "name": "stdout",
          "text": [
            "Hello World\n",
            "Wallace World\n"
          ]
        }
      ]
    },
    {
      "cell_type": "markdown",
      "source": [
        "####**TASK P8.3**  **<font color = orange> Complete Rosalind Problem #2 Strings and Lists</font>**"
      ],
      "metadata": {
        "id": "2TTQVE-Xf8jR"
      }
    },
    {
      "cell_type": "code",
      "source": [
        "# Enter code for Rosalind 2 here:\n",
        "my_stringROSALIND = \"Kd2z4k8EXlzjEfGyu3f0sYgNdMOW3Z7c69RHO4ErJumaJzQEesJAnthropoidesdrTex3hFod6RqZ36NBuvhjutYwIezO63aYsV6waF5ZyzWGgLux58osKnwIFocKWRCFWsXjZgX8uJvIaufCWGleucoryphusJWCziRn.\"\n",
        "\n",
        "print (my_stringROSALIND[51:63],my_stringROSALIND[147:158])"
      ],
      "metadata": {
        "id": "LI88f5RZh4GL",
        "colab": {
          "base_uri": "https://localhost:8080/"
        },
        "outputId": "c0f88d79-1f97-482c-8adc-cc8ff92b5a8f"
      },
      "execution_count": null,
      "outputs": [
        {
          "output_type": "stream",
          "name": "stdout",
          "text": [
            "Anthropoides leucoryphus\n"
          ]
        }
      ]
    },
    {
      "cell_type": "markdown",
      "source": [
        "####**<font color=crimson>TASK 8.4 Commit to GitHub**</font>*italicized text*"
      ],
      "metadata": {
        "id": "Tw6Pwh6TjwJ9"
      }
    },
    {
      "cell_type": "markdown",
      "source": [
        "# **<font color=blue>P9. </font>** ```if``` and ```else``` - conditional output"
      ],
      "metadata": {
        "id": "iHFNxm30lzic"
      }
    },
    {
      "cell_type": "markdown",
      "source": [
        "####**TASK P9.1** Create some code that subtracts two numbers if they are different or adds them if they are the same."
      ],
      "metadata": {
        "id": "WCXnGdftztbN"
      }
    },
    {
      "cell_type": "code",
      "source": [
        "a=5\n",
        "b=5\n",
        "\n",
        "if a!=b:\n",
        "  print(a-b)\n",
        "\n",
        "else:\n",
        "  print(a+b)"
      ],
      "metadata": {
        "id": "KabZsL5Fy8jJ",
        "colab": {
          "base_uri": "https://localhost:8080/"
        },
        "outputId": "5d69cdc6-5f78-473b-f75e-8dd46bb48649"
      },
      "execution_count": null,
      "outputs": [
        {
          "output_type": "stream",
          "name": "stdout",
          "text": [
            "10\n"
          ]
        }
      ]
    },
    {
      "cell_type": "markdown",
      "source": [
        "# **<font color=blue>P10.</font>** ```while``` loops"
      ],
      "metadata": {
        "id": "sOgq54Op4MZL"
      }
    },
    {
      "cell_type": "markdown",
      "source": [
        "####**TASK P10.1** Create a while loop that runs 3 times\n"
      ],
      "metadata": {
        "id": "JMqGqhTn4l9s"
      }
    },
    {
      "cell_type": "code",
      "source": [
        "#initiate a counter\n",
        "a = 1\n",
        "\n",
        "#print \"Counting!\" while a<=3\n",
        "while a <= 3:\n",
        "\n",
        "    print (\"Counting!\" * a)\n",
        "    a += 1"
      ],
      "metadata": {
        "id": "07YbiCGO4O1w",
        "colab": {
          "base_uri": "https://localhost:8080/"
        },
        "outputId": "2adba2f3-1ce5-4f68-82ca-10a8acba46e0"
      },
      "execution_count": null,
      "outputs": [
        {
          "output_type": "stream",
          "name": "stdout",
          "text": [
            "Counting!\n",
            "Counting!Counting!\n",
            "Counting!Counting!Counting!\n"
          ]
        }
      ]
    },
    {
      "cell_type": "markdown",
      "source": [
        "# **<font color=blue>P11.</font>** ```for``` loops – looping over lists"
      ],
      "metadata": {
        "id": "R5_dYi9f6t1z"
      }
    },
    {
      "cell_type": "markdown",
      "source": [
        "####**TASK P11.1** Create a for loop to print each item in a list\n"
      ],
      "metadata": {
        "id": "x9F7v_V073wO"
      }
    },
    {
      "cell_type": "code",
      "source": [
        "names = [\"Alice\",\"Bob\",\"Charley\"]\n",
        "\n",
        "for name in names:\n",
        "    print (\"Hello\", name)"
      ],
      "metadata": {
        "id": "-aqaQ5hz70yo",
        "colab": {
          "base_uri": "https://localhost:8080/"
        },
        "outputId": "840bd125-7c1e-4e7d-c82c-71c7526240e1"
      },
      "execution_count": null,
      "outputs": [
        {
          "output_type": "stream",
          "name": "stdout",
          "text": [
            "Hello Alice\n",
            "Hello Bob\n",
            "Hello Charley\n"
          ]
        }
      ]
    },
    {
      "cell_type": "markdown",
      "source": [
        "# **<font color=blue>P12.</font>** ```for``` loops over a ```range()```of numbers"
      ],
      "metadata": {
        "id": "LdtXZ0LW9ugo"
      }
    },
    {
      "cell_type": "markdown",
      "source": [
        "####**TASK 12.1** Using for and range(), create code that prints the numbers 0-9"
      ],
      "metadata": {
        "id": "jG6jvXEBDi4H"
      }
    },
    {
      "cell_type": "code",
      "source": [
        "# Create a variable to define the  number of iterations\n",
        "iterations = 10\n",
        "\n",
        "#Print the current item's value each time through the loop\n",
        "for number in range(iterations):\n",
        "    print (number)"
      ],
      "metadata": {
        "colab": {
          "base_uri": "https://localhost:8080/"
        },
        "id": "RFBXqQNu_E6X",
        "outputId": "88613969-cf91-41ba-d0da-463fcc1dfba6"
      },
      "execution_count": null,
      "outputs": [
        {
          "output_type": "stream",
          "name": "stdout",
          "text": [
            "0\n",
            "1\n",
            "2\n",
            "3\n",
            "4\n",
            "5\n",
            "6\n",
            "7\n",
            "8\n",
            "9\n"
          ]
        }
      ]
    },
    {
      "cell_type": "markdown",
      "source": [
        "####**TASK 12.2** Modify the code so that it only prints every 3rd number from 9 through 27 (i.e. including 27)"
      ],
      "metadata": {
        "id": "NRd5srR_G-PQ"
      }
    },
    {
      "cell_type": "code",
      "source": [
        "Iterations = 27\n",
        "\n",
        "for number in range (9,Iterations + 1,3):\n",
        "  print (number)\n"
      ],
      "metadata": {
        "id": "irYTFPO-IRHo",
        "colab": {
          "base_uri": "https://localhost:8080/"
        },
        "outputId": "adfc5c12-756f-4df7-9fbf-c54105ff77b8"
      },
      "execution_count": null,
      "outputs": [
        {
          "output_type": "stream",
          "name": "stdout",
          "text": [
            "9\n",
            "12\n",
            "15\n",
            "18\n",
            "21\n",
            "24\n",
            "27\n"
          ]
        }
      ]
    },
    {
      "cell_type": "markdown",
      "source": [
        "####**TASK 12.3** <font color = orange> **Complete Rosalind Problem #3 Conditions and Loops** </font>"
      ],
      "metadata": {
        "id": "83jDEjpMHXUa"
      }
    },
    {
      "cell_type": "code",
      "source": [
        "# Enter code for Rosalind 3 here:\n",
        "a=4933\n",
        "b=8939\n",
        "sum=0\n",
        "\n",
        "\n",
        "for number in range (a,b+1):\n",
        "  if number%2==1:\n",
        "    sum=sum+number\n",
        "\n",
        "\n",
        "\n",
        "print (sum)\n",
        "\n"
      ],
      "metadata": {
        "id": "EI7hRtakG90R",
        "colab": {
          "base_uri": "https://localhost:8080/"
        },
        "outputId": "b6c209d2-5f0e-40cd-bce6-45840199ef46"
      },
      "execution_count": null,
      "outputs": [
        {
          "output_type": "stream",
          "name": "stdout",
          "text": [
            "13899744\n"
          ]
        }
      ]
    },
    {
      "cell_type": "markdown",
      "source": [
        "####**<font color=crimson>TASK 12.4 Commit to GitHub**</font>"
      ],
      "metadata": {
        "id": "3P9DKNbPI1wp"
      }
    },
    {
      "cell_type": "markdown",
      "source": [
        "# **<font color=blue>P13.</font>** File I/O – with open(\"filename\", \"mode\") as filehandle:\n"
      ],
      "metadata": {
        "id": "i4Fo-ddSKWwy"
      }
    },
    {
      "cell_type": "markdown",
      "source": [
        "####**TASK P13.1** Use the ```read()``` function to print the <font color = orange>practice dataset from Rosalind #4</font>\n"
      ],
      "metadata": {
        "id": "sgc3wiQmLXcI"
      }
    },
    {
      "cell_type": "code",
      "source": [
        "with open(\"practice.txt\",\"r\") as data:\n",
        "\n",
        "    print(data.read())\n",
        "\n",
        "    #print(data.readline())\n",
        "\n",
        "    #print(data.readlines())"
      ],
      "metadata": {
        "id": "V5nzHsnULA_n",
        "colab": {
          "base_uri": "https://localhost:8080/"
        },
        "outputId": "50941e88-0fb7-494a-d195-53f79608c33a"
      },
      "execution_count": null,
      "outputs": [
        {
          "output_type": "stream",
          "name": "stdout",
          "text": [
            "Bravely bold Sir Robin rode forth from Camelot\n",
            "Yes, brave Sir Robin turned about\n",
            "He was not afraid to die, O brave Sir Robin\n",
            "And gallantly he chickened out\n",
            "He was not at all afraid to be killed in nasty ways\n",
            "Bravely talking to his feet\n",
            "Brave, brave, brave, brave Sir Robin\n",
            "He beat a very brave retreat\n"
          ]
        }
      ]
    },
    {
      "cell_type": "markdown",
      "source": [
        "####**TASK P13.2** Explore file object functions to read and print practice.txt"
      ],
      "metadata": {
        "id": "GLO6tBYNVzYZ"
      }
    },
    {
      "cell_type": "code",
      "source": [
        "with open(\"practice.txt\",\"r\") as test:\n",
        "\n",
        "    print(test.read())\n",
        "\n",
        "    print(test.readline())\n",
        "\n",
        "    print(test.readlines())\n"
      ],
      "metadata": {
        "id": "XLvFZ9uSeyYH",
        "colab": {
          "base_uri": "https://localhost:8080/"
        },
        "outputId": "a0df6d8c-dbda-448d-e205-19dfe8ca413e"
      },
      "execution_count": null,
      "outputs": [
        {
          "output_type": "stream",
          "name": "stdout",
          "text": [
            "Bravely bold Sir Robin rode forth from Camelot\n",
            "Yes, brave Sir Robin turned about\n",
            "He was not afraid to die, O brave Sir Robin\n",
            "And gallantly he chickened out\n",
            "He was not at all afraid to be killed in nasty ways\n",
            "Bravely talking to his feet\n",
            "Brave, brave, brave, brave Sir Robin\n",
            "He beat a very brave retreat\n",
            "\n",
            "[]\n"
          ]
        }
      ]
    },
    {
      "cell_type": "markdown",
      "source": [
        "#<font color=blue>**P14.**</font> Store the content, close the file, and join ( ) the list"
      ],
      "metadata": {
        "id": "iupO8iI-ZYAe"
      }
    },
    {
      "cell_type": "code",
      "source": [
        "with open(\"practice.txt\",\"r\") as data:\n",
        "\n",
        "  list_of_lines=data.readlines()\n",
        "\n",
        "print (list_of_lines)"
      ],
      "metadata": {
        "id": "8U5w2qOudDyp",
        "colab": {
          "base_uri": "https://localhost:8080/"
        },
        "outputId": "373f50e4-aa63-449b-f1c5-ead2d5532a3f"
      },
      "execution_count": null,
      "outputs": [
        {
          "output_type": "stream",
          "name": "stdout",
          "text": [
            "['Bravely bold Sir Robin rode forth from Camelot\\n', 'Yes, brave Sir Robin turned about\\n', 'He was not afraid to die, O brave Sir Robin\\n', 'And gallantly he chickened out\\n', 'He was not at all afraid to be killed in nasty ways\\n', 'Bravely talking to his feet\\n', 'Brave, brave, brave, brave Sir Robin\\n', 'He beat a very brave retreat']\n"
          ]
        }
      ]
    },
    {
      "cell_type": "markdown",
      "source": [
        "####**TASK P14.1** Read practice.txt into a list of lines. Then, after the file is closed, use the join ( ) function to print the contents so it looks like the original input."
      ],
      "metadata": {
        "id": "5pPhGmQYiiKx"
      }
    },
    {
      "cell_type": "code",
      "source": [
        "with open(\"practice.txt\",\"r\") as data:\n",
        "\n",
        "  list_of_lines=data.readlines()\n",
        "\n",
        "print (\"\".join(list_of_lines[0:8]))"
      ],
      "metadata": {
        "colab": {
          "base_uri": "https://localhost:8080/"
        },
        "id": "eTGvEzrdie9U",
        "outputId": "6e6b181b-ef6d-4415-92ac-8791c7d20e11"
      },
      "execution_count": null,
      "outputs": [
        {
          "output_type": "stream",
          "name": "stdout",
          "text": [
            "Bravely bold Sir Robin rode forth from Camelot\n",
            "Yes, brave Sir Robin turned about\n",
            "He was not afraid to die, O brave Sir Robin\n",
            "And gallantly he chickened out\n",
            "He was not at all afraid to be killed in nasty ways\n",
            "Bravely talking to his feet\n",
            "Brave, brave, brave, brave Sir Robin\n",
            "He beat a very brave retreat\n"
          ]
        }
      ]
    },
    {
      "cell_type": "markdown",
      "source": [
        "#<font color=blue>**P15.**</font> Combining for loops with file objects"
      ],
      "metadata": {
        "id": "lY924yM0jckW"
      }
    },
    {
      "cell_type": "markdown",
      "source": [
        "####**TASK P15.1** Use a for loop to print each line in practice.txt"
      ],
      "metadata": {
        "id": "NvqGEl4JjpiO"
      }
    },
    {
      "cell_type": "code",
      "source": [
        "with open(\"practice.txt\",\"r\") as data:\n",
        "\n",
        "  for line in data:\n",
        "    print (line)"
      ],
      "metadata": {
        "id": "snY-10pUkMby",
        "colab": {
          "base_uri": "https://localhost:8080/"
        },
        "outputId": "34de3281-cda4-4645-b2c8-e68fc7bc7973"
      },
      "execution_count": null,
      "outputs": [
        {
          "output_type": "stream",
          "name": "stdout",
          "text": [
            "Bravely bold Sir Robin rode forth from Camelot\n",
            "\n",
            "Yes, brave Sir Robin turned about\n",
            "\n",
            "He was not afraid to die, O brave Sir Robin\n",
            "\n",
            "And gallantly he chickened out\n",
            "\n",
            "He was not at all afraid to be killed in nasty ways\n",
            "\n",
            "Bravely talking to his feet\n",
            "\n",
            "Brave, brave, brave, brave Sir Robin\n",
            "\n",
            "He beat a very brave retreat\n"
          ]
        }
      ]
    },
    {
      "cell_type": "markdown",
      "source": [
        "####**TASK P15.2** <font color=orange>**Complete Rosalind Problem #4 Working with Files**</font>\n"
      ],
      "metadata": {
        "id": "DHzE7CI4lWGw"
      }
    },
    {
      "cell_type": "code",
      "source": [
        "with open(\"rosalind_ini555.txt\",\"r\") as ROSALIND:\n",
        "\n",
        "  lines=ROSALIND.readlines()\n",
        "\n",
        "  even_lines=[lines [1::2]]\n",
        "\n",
        "for result in even_lines:\n",
        "  print (\"\".join(result[0:]))\n",
        "\n"
      ],
      "metadata": {
        "id": "8QR9dRFtltBN",
        "colab": {
          "base_uri": "https://localhost:8080/"
        },
        "outputId": "a3b11724-c79c-4c8b-99da-a9532d480695"
      },
      "execution_count": null,
      "outputs": [
        {
          "output_type": "stream",
          "name": "stdout",
          "text": [
            "Some things in life are bad, they can really make you mad\n",
            "Other things just make you swear and curse\n",
            "When you're chewing on life's gristle, don't grumble give a whistle\n",
            "This will help things turn out for the best\n",
            "Always look on the bright side of life\n",
            "Always look on the right side of life\n",
            "If life seems jolly rotten, there's something you've forgotten\n",
            "And that's to laugh and smile and dance and sing\n",
            "When you're feeling in the dumps, don't be silly, chumps\n",
            "Just purse your lips and whistle, that's the thing\n",
            "So, always look on the bright side of death\n",
            "Just before you draw your terminal breath\n",
            "Life's a counterfeit and when you look at it\n",
            "Life's a laugh and death's the joke, it's true\n",
            "You see, it's all a show, keep them laughing as you go\n",
            "Just remember the last laugh is on you\n",
            "Always look on the bright side of life\n",
            "And always look on the right side of life\n",
            "Always look on the bright side of life\n",
            "And always look on the right side of life\n",
            "\n"
          ]
        }
      ]
    },
    {
      "cell_type": "markdown",
      "source": [
        "####**<font color=crimson>TASK 15.4 Commit to GitHub**</font>"
      ],
      "metadata": {
        "id": "GJ_acW4WlwDn"
      }
    },
    {
      "cell_type": "markdown",
      "source": [
        "#<font color=blue>**P16.**</font> ```for word in line.split()``` – looping over strings and splitting by any delimiter"
      ],
      "metadata": {
        "id": "WD5wnvQkmh6E"
      }
    },
    {
      "cell_type": "markdown",
      "source": [
        "####**TASK P16.1** Print each word in the ROSALIND Problem #5 Sample Dataset on a separate line.\n"
      ],
      "metadata": {
        "id": "kApNvgOLn8lp"
      }
    },
    {
      "cell_type": "code",
      "source": [
        "with open(\"practice_5.txt\",\"r\") as data:\n",
        "\n",
        "  line=data.read()\n",
        "\n",
        "for word in line.split():\n",
        "    print (word)"
      ],
      "metadata": {
        "colab": {
          "base_uri": "https://localhost:8080/"
        },
        "id": "PBjyhwclpKoM",
        "outputId": "429f7224-c0d1-4f8d-9f1b-e962b55e0819"
      },
      "execution_count": null,
      "outputs": [
        {
          "output_type": "stream",
          "name": "stdout",
          "text": [
            "We\n",
            "tried\n",
            "list\n",
            "and\n",
            "we\n",
            "tried\n",
            "dicts\n",
            "also\n",
            "we\n",
            "tried\n",
            "Zen\n"
          ]
        }
      ]
    },
    {
      "cell_type": "markdown",
      "source": [
        "#<font color=blue>**P17.**</font> Python Dictionaries { }"
      ],
      "metadata": {
        "id": "kq9QbEttnA4h"
      }
    },
    {
      "cell_type": "markdown",
      "source": [
        "####**TASK 17.1** Create and print your first dictionary"
      ],
      "metadata": {
        "id": "lVudFQkZqJgh"
      }
    },
    {
      "cell_type": "code",
      "source": [
        "sequences = {\n",
        "    \"H.neandertalensis\":\"ACGTCGCTCTGCTA\",\n",
        "    \"H.sapiens\":\"ACGTCACTCTGCTA\"\n",
        "    }\n",
        "\n",
        "print (sequences)"
      ],
      "metadata": {
        "colab": {
          "base_uri": "https://localhost:8080/"
        },
        "id": "IzKFWDlgq6zo",
        "outputId": "3c0f59c4-9323-486a-84fb-2fd928b10aeb"
      },
      "execution_count": null,
      "outputs": [
        {
          "output_type": "stream",
          "name": "stdout",
          "text": [
            "{'H.neandertalensis': 'ACGTCGCTCTGCTA', 'H.sapiens': 'ACGTCACTCTGCTA'}\n"
          ]
        }
      ]
    },
    {
      "cell_type": "markdown",
      "source": [
        "#<font color=blue>**P18.**</font> Manipulating and printing dictionaries"
      ],
      "metadata": {
        "id": "OvqoT6UwnK0g"
      }
    },
    {
      "cell_type": "markdown",
      "source": [
        "####**TASK 18.1** Modify line 8 to create a fasta file of the hominid sequences"
      ],
      "metadata": {
        "id": "5Be2tcQRrjso"
      }
    },
    {
      "cell_type": "code",
      "source": [
        "sequences[\"P.troglodytes\"]=\"ACGTCACTCTCCTA\"\n",
        "\n",
        "sequences.update({\"G.gorilla\":\"ACGTCCTCCTA\", \"H.erectus\":\"ACGTCACTCTGCTA\"})\n",
        "\n",
        "print (sequences[\"H.sapiens\"])\n",
        "\n",
        "for key,value in sequences.items():\n",
        "     print (key,value)"
      ],
      "metadata": {
        "colab": {
          "base_uri": "https://localhost:8080/"
        },
        "id": "b-2XDof4rtP8",
        "outputId": "bc097557-99c9-4f20-c578-78da53e26da2"
      },
      "execution_count": null,
      "outputs": [
        {
          "output_type": "stream",
          "name": "stdout",
          "text": [
            "ACGTCACTCTGCTA\n",
            "H.neandertalensis ACGTCGCTCTGCTA\n",
            "H.sapiens ACGTCACTCTGCTA\n",
            "P.troglodytes ACGTCACTCTCCTA\n",
            "G.gorilla ACGTCCTCCTA\n",
            "H.erectus ACGTCACTCTGCTA\n"
          ]
        }
      ]
    },
    {
      "cell_type": "markdown",
      "source": [
        "####**TASK P18.2** <font color= orange>**Complete Rosalind Problem #5  Dictionaries**</font>"
      ],
      "metadata": {
        "id": "Y98OZYUNvmWD"
      }
    },
    {
      "cell_type": "code",
      "source": [
        "phrase=\"When I find myself in times of trouble Mother Mary comes to me Speaking words of wisdom let it be And in my hour of darkness she is standing right in front of me Speaking words of wisdom let it be Let it be let it be let it be let it be Whisper words of wisdom let it be And when the broken hearted people living in the world agree There will be an answer let it be For though they may be parted there is still a chance that they will see There will be an answer let it be Let it be let it be let it be let it be There will be an answer let it be Let it be let it be let it be let it be Whisper words of wisdom let it be Let it be let it be let it be let it be Whisper words of wisdom let it be And when the night is cloudy there is still a light that shines on me Shine until tomorrow let it be I wake up to the sound of music Mother Mary comes to me Speaking words of wisdom let it be Let it be let it be let it be yeah let it be There will be an answer let it be Let it be let it be let it be yeah let it be Whisper words of wisdom let it be\"\n",
        "\n",
        "phrase_words=phrase.split()\n",
        "\n",
        "phrase_dictionary={}\n",
        "\n",
        "for word in phrase_words:\n",
        "  if word in phrase_dictionary:\n",
        "    phrase_dictionary[word]+=1\n",
        "  else:\n",
        "    phrase_dictionary[word]=1\n",
        "\n",
        "for w in phrase_dictionary:\n",
        "    print(w, phrase_dictionary[w])\n"
      ],
      "metadata": {
        "id": "lD3KoTY9wWa7",
        "colab": {
          "base_uri": "https://localhost:8080/"
        },
        "outputId": "68548d29-3fd4-48e8-f94c-fe9d659159e1"
      },
      "execution_count": null,
      "outputs": [
        {
          "output_type": "stream",
          "name": "stdout",
          "text": [
            "When 1\n",
            "I 2\n",
            "find 1\n",
            "myself 1\n",
            "in 4\n",
            "times 1\n",
            "of 11\n",
            "trouble 1\n",
            "Mother 2\n",
            "Mary 2\n",
            "comes 2\n",
            "to 3\n",
            "me 4\n",
            "Speaking 3\n",
            "words 7\n",
            "wisdom 7\n",
            "let 30\n",
            "it 36\n",
            "be 41\n",
            "And 3\n",
            "my 1\n",
            "hour 1\n",
            "darkness 1\n",
            "she 1\n",
            "is 4\n",
            "standing 1\n",
            "right 1\n",
            "front 1\n",
            "Let 6\n",
            "Whisper 4\n",
            "when 2\n",
            "the 4\n",
            "broken 1\n",
            "hearted 1\n",
            "people 1\n",
            "living 1\n",
            "world 1\n",
            "agree 1\n",
            "There 4\n",
            "will 5\n",
            "an 4\n",
            "answer 4\n",
            "For 1\n",
            "though 1\n",
            "they 2\n",
            "may 1\n",
            "parted 1\n",
            "there 2\n",
            "still 2\n",
            "a 2\n",
            "chance 1\n",
            "that 2\n",
            "see 1\n",
            "night 1\n",
            "cloudy 1\n",
            "light 1\n",
            "shines 1\n",
            "on 1\n",
            "Shine 1\n",
            "until 1\n",
            "tomorrow 1\n",
            "wake 1\n",
            "up 1\n",
            "sound 1\n",
            "music 1\n",
            "yeah 2\n"
          ]
        }
      ]
    },
    {
      "cell_type": "markdown",
      "source": [
        "####**<font color=crimson>TASK 18.3 Commit to GitHub**</font>"
      ],
      "metadata": {
        "id": "1dJdfy4bwVO4"
      }
    },
    {
      "cell_type": "markdown",
      "source": [
        "#<font color=blue>**P19.**</font> ```count()``` – counting things made easy"
      ],
      "metadata": {
        "id": "28ygQlYJnZoA"
      }
    },
    {
      "cell_type": "markdown",
      "source": [
        "####**TASK P19.1** <font color= orange>**Complete Rosalind Problem #6  Counting DNA Nucleotides**</font>"
      ],
      "metadata": {
        "id": "CZ9tBWDmw4D-"
      }
    },
    {
      "cell_type": "code",
      "source": [
        "DNA=\"CAGCGCTCTTTAAAGGAGCATACTTCCTATTGTTCATCGACCTTTGGGGGAATATTTTTGACTCAGGTGGCCGGTTGGCCGACTTTACATCAGGACCGGGCCGAAATGGCGATTTCCTAGCCTAGACCGGATCCGTCGATGCCTAGCCGGTGGTCAAAACGCAAGTGTACCCTTCCACACGGCGAGCTGTCTCCGTAAAGAGTAATGATCTCTACCGGGCATCCGCGGAAGTCAGATTAGAATCATCCTCCGACGTGGTATACCCTTAGGTCATGATTCCGATGACAGGAAACAGATTATAAATGATCAGCAGGCTCAGTTACACAGTCCACGGTCCCTAGTAGTCGTAATCGCCCCAGCGACTTCGAAGAACCCCGGCTGGATGTTGTACCAGCACACGCTAAAGCAGTCCCTTCATCAATTCAACAGACCTATTCTGTTAAAAGGTTGCAATCACGCTCAGTCGGTGCAGGGTTGGCATCCCCCCTGGTTGGTTAACAAAAATGATTTTGCTGATGCCCCCGAAGTCGTGCGTGCCGACACGCTAGCAACTGACAGGTGGTTAGACGTTCGCGGTGAACCAACTAAAGTTTGAACTCACCGCTGACTGACGGTAGTAGACCTCCTAAGTTGCCATGGTTGACCATTGTGAACTTCCCCAGGTCCTCCGGGCCCTGTGGGGAATAGGTTTATTAACACCGAGAGGATCGGATTTGTCACCGTAGCTACAAGGGTTAGGTTAAATAAATTAGAGGGTGGCACGGCATGCCAAGCGTCTCAGCCCGCGATGGAGGGAGTTGGAGTTACGAAAACGAGGGACGAATCGTATCGCCCTGAAGGGCTAAATGATCTGGTGGAAGAAAAAAAGTGGCAGCCTGGCTCATGTCCTCTTGCAAGTAGGAA\"\n",
        "count_A=DNA.count(\"A\")\n",
        "count_C=DNA.count(\"C\")\n",
        "count_G=DNA.count(\"G\")\n",
        "count_T=DNA.count(\"T\")\n",
        "\n",
        "print (count_A,count_C,count_G,count_T)"
      ],
      "metadata": {
        "id": "GlwS14zGxBIC",
        "colab": {
          "base_uri": "https://localhost:8080/"
        },
        "outputId": "cb6e1184-3ad1-47d1-fb64-32ad727c782f"
      },
      "execution_count": null,
      "outputs": [
        {
          "output_type": "stream",
          "name": "stdout",
          "text": [
            "229 224 239 211\n"
          ]
        }
      ]
    },
    {
      "cell_type": "markdown",
      "source": [
        "####**TASK P19.2** Modify your code for the Rosalind #5 Dictionary problem so that it uses count( ) to count the words."
      ],
      "metadata": {
        "id": "rj-OWB6Jym5y"
      }
    },
    {
      "cell_type": "code",
      "source": [
        "phrase_words=phrase.split()\n",
        "\n",
        "number={}\n",
        "\n",
        "for word in phrase_words:\n",
        "    number[word] = phrase_words.count(word)\n",
        "\n",
        "for item in phrase_dictionary:\n",
        "    print(item, phrase_dictionary[item])"
      ],
      "metadata": {
        "id": "9H_S6jLnzfxR",
        "colab": {
          "base_uri": "https://localhost:8080/"
        },
        "outputId": "f0162ed6-d2e4-4fa6-c2de-628031282533"
      },
      "execution_count": null,
      "outputs": [
        {
          "output_type": "stream",
          "name": "stdout",
          "text": [
            "When 1\n",
            "I 2\n",
            "find 1\n",
            "myself 1\n",
            "in 4\n",
            "times 1\n",
            "of 11\n",
            "trouble 1\n",
            "Mother 2\n",
            "Mary 2\n",
            "comes 2\n",
            "to 3\n",
            "me 4\n",
            "Speaking 3\n",
            "words 7\n",
            "wisdom 7\n",
            "let 30\n",
            "it 36\n",
            "be 41\n",
            "And 3\n",
            "my 1\n",
            "hour 1\n",
            "darkness 1\n",
            "she 1\n",
            "is 4\n",
            "standing 1\n",
            "right 1\n",
            "front 1\n",
            "Let 6\n",
            "Whisper 4\n",
            "when 2\n",
            "the 4\n",
            "broken 1\n",
            "hearted 1\n",
            "people 1\n",
            "living 1\n",
            "world 1\n",
            "agree 1\n",
            "There 4\n",
            "will 5\n",
            "an 4\n",
            "answer 4\n",
            "For 1\n",
            "though 1\n",
            "they 2\n",
            "may 1\n",
            "parted 1\n",
            "there 2\n",
            "still 2\n",
            "a 2\n",
            "chance 1\n",
            "that 2\n",
            "see 1\n",
            "night 1\n",
            "cloudy 1\n",
            "light 1\n",
            "shines 1\n",
            "on 1\n",
            "Shine 1\n",
            "until 1\n",
            "tomorrow 1\n",
            "wake 1\n",
            "up 1\n",
            "sound 1\n",
            "music 1\n",
            "yeah 2\n"
          ]
        }
      ]
    },
    {
      "cell_type": "markdown",
      "source": [
        "####**<font color=crimson>TASK 19.3 Commit to GitHub**</font>\n"
      ],
      "metadata": {
        "id": "RzMon_wAzg7D"
      }
    },
    {
      "cell_type": "markdown",
      "source": [
        "#<font color=blue>**P20.**</font> Installing biopython"
      ],
      "metadata": {
        "id": "-IB0c2gG0Z1O"
      }
    },
    {
      "cell_type": "code",
      "source": [
        "!pip install biopython"
      ],
      "metadata": {
        "colab": {
          "base_uri": "https://localhost:8080/"
        },
        "id": "pinPQdEn0mJM",
        "outputId": "331f41a3-66f2-4444-8a0f-4e40152766ac"
      },
      "execution_count": null,
      "outputs": [
        {
          "output_type": "stream",
          "name": "stdout",
          "text": [
            "Collecting biopython\n",
            "  Downloading biopython-1.85-cp312-cp312-manylinux_2_17_x86_64.manylinux2014_x86_64.whl.metadata (13 kB)\n",
            "Requirement already satisfied: numpy in /usr/local/lib/python3.12/dist-packages (from biopython) (2.0.2)\n",
            "Downloading biopython-1.85-cp312-cp312-manylinux_2_17_x86_64.manylinux2014_x86_64.whl (3.3 MB)\n",
            "\u001b[2K   \u001b[90m━━━━━━━━━━━━━━━━━━━━━━━━━━━━━━━━━━━━━━━━\u001b[0m \u001b[32m3.3/3.3 MB\u001b[0m \u001b[31m29.4 MB/s\u001b[0m eta \u001b[36m0:00:00\u001b[0m\n",
            "\u001b[?25hInstalling collected packages: biopython\n",
            "Successfully installed biopython-1.85\n"
          ]
        }
      ]
    },
    {
      "cell_type": "code",
      "metadata": {
        "colab": {
          "base_uri": "https://localhost:8080/"
        },
        "id": "5ccd6f0b",
        "outputId": "c78bac5a-4e13-458a-82aa-805b920a1f36"
      },
      "source": [
        "try:\n",
        "  from Bio.Seq import Seq\n",
        "  print(\"Biopython is installed correctly.\")\n",
        "except ImportError:\n",
        "  print(\"Biopython is not installed or there was an import error.\")"
      ],
      "execution_count": null,
      "outputs": [
        {
          "output_type": "stream",
          "name": "stdout",
          "text": [
            "Biopython is installed correctly.\n"
          ]
        }
      ]
    },
    {
      "cell_type": "markdown",
      "source": [
        "#<font color=blue>**P21.**</font> Seq( ) – a function to define sequence objects"
      ],
      "metadata": {
        "id": "IGX-ThdQ3RuA"
      }
    },
    {
      "cell_type": "code",
      "source": [
        "from Bio.Seq import Seq\n",
        "\n",
        "my_sequence = Seq(\"GATGGAACTTGACTACGTAAATT\")"
      ],
      "metadata": {
        "id": "ltZBr8mE4OhM"
      },
      "execution_count": null,
      "outputs": []
    },
    {
      "cell_type": "markdown",
      "source": [
        "####**TASK BP21.2** <font color=orange> **Complete Rosalind #7 Transcribing DNA into RNA**</font>"
      ],
      "metadata": {
        "id": "UXCuEFxg6Jxx"
      }
    },
    {
      "cell_type": "code",
      "source": [
        "DNAseq=Seq(\"GTGAACAGCAGGTACGTGCTGCATACCTAACAACGAGGATTCTTGTAACTCCATGGTACTCCATCGGACTTTTCTATCATAGAGGCCGATTCGCGGGAGCTGGACCACGTCTCCAGTACTCTCTAGCCCTGAAAGATGCTACTATACCCGCGTGAGACCAAAGCGCAATGCAGCTACGTGGCGGCGGTGTGGTAGTGGCGTTAACTCCCACCCGGTTCAAGACGAAGGCGTGAGAGATCGTTATGCTAATTGGATGAAGCTGGTAAGCAAAGAACGAGATGCCAGGCGACCTTCCTTAGCAGTGTAATTCGTCAGAATTTCCATGACAAACTGCCGAGAAACAATAGTCGTGTGTAGACGACCATATCTTTATCACGGACGGCCCGTTTGAACGCGTTTGTGATGCCAAGATGACTTCACAAGTGGGAGAGATCCTACCCATCAACAAAATGGACGTACGACCTCCGATACAAGAGATGAAATCCGGGCGCCGGAGTTCAATATAACGGGGAGGGTTAAGAGCAGCGCACATAATAACAGTACTGCGCTAGTAGGCCTAGCCGTCCAGTCGGCACCACGGAGGCTCTTACGCTATGATCGGCGCAAGTGCCCCCAGAGCAATGGAAAATGTATCAGTCGCGTTGAACAGTCTGCACGTTTCCCCATTCCGGGGTGAAAGTGAATGTGTCATGGCAAGTGGAGAGAGAGTGAATGGAATGATTCGTATGTTGTTGCGAGCAAGCTGGCTCGGCAAGAGAACTGGCAACTACGTGTCTGTTTGCTCCATAGTCAACAGAGTTGGTTCGGAGAGTTGAGGTCAAACGACGGCACCTAGGAAGGCACATAGCTTGGACAAGCGTAATAACGAATACCTAGTGTTAGCGCGGCTGTCGGAAACCCAGCGTCAGCAGGTTCGCGCAGCCGCACTTTTTCGTATGGGAGACGGCCCTGAATA\")\n",
        "\n",
        "print (DNAseq.transcribe())"
      ],
      "metadata": {
        "colab": {
          "base_uri": "https://localhost:8080/"
        },
        "id": "IFXPGBWFZkIS",
        "outputId": "36f743ca-dc4e-445d-acd9-9bab23fd457f"
      },
      "execution_count": 78,
      "outputs": [
        {
          "output_type": "stream",
          "name": "stdout",
          "text": [
            "GUGAACAGCAGGUACGUGCUGCAUACCUAACAACGAGGAUUCUUGUAACUCCAUGGUACUCCAUCGGACUUUUCUAUCAUAGAGGCCGAUUCGCGGGAGCUGGACCACGUCUCCAGUACUCUCUAGCCCUGAAAGAUGCUACUAUACCCGCGUGAGACCAAAGCGCAAUGCAGCUACGUGGCGGCGGUGUGGUAGUGGCGUUAACUCCCACCCGGUUCAAGACGAAGGCGUGAGAGAUCGUUAUGCUAAUUGGAUGAAGCUGGUAAGCAAAGAACGAGAUGCCAGGCGACCUUCCUUAGCAGUGUAAUUCGUCAGAAUUUCCAUGACAAACUGCCGAGAAACAAUAGUCGUGUGUAGACGACCAUAUCUUUAUCACGGACGGCCCGUUUGAACGCGUUUGUGAUGCCAAGAUGACUUCACAAGUGGGAGAGAUCCUACCCAUCAACAAAAUGGACGUACGACCUCCGAUACAAGAGAUGAAAUCCGGGCGCCGGAGUUCAAUAUAACGGGGAGGGUUAAGAGCAGCGCACAUAAUAACAGUACUGCGCUAGUAGGCCUAGCCGUCCAGUCGGCACCACGGAGGCUCUUACGCUAUGAUCGGCGCAAGUGCCCCCAGAGCAAUGGAAAAUGUAUCAGUCGCGUUGAACAGUCUGCACGUUUCCCCAUUCCGGGGUGAAAGUGAAUGUGUCAUGGCAAGUGGAGAGAGAGUGAAUGGAAUGAUUCGUAUGUUGUUGCGAGCAAGCUGGCUCGGCAAGAGAACUGGCAACUACGUGUCUGUUUGCUCCAUAGUCAACAGAGUUGGUUCGGAGAGUUGAGGUCAAACGACGGCACCUAGGAAGGCACAUAGCUUGGACAAGCGUAAUAACGAAUACCUAGUGUUAGCGCGGCUGUCGGAAACCCAGCGUCAGCAGGUUCGCGCAGCCGCACUUUUUCGUAUGGGAGACGGCCCUGAAUA\n"
          ]
        }
      ]
    },
    {
      "cell_type": "markdown",
      "source": [
        "####**TASK BP21.2** <font color=orange> **Complete Rosalind #8  Translating RNA into Protein**</font>"
      ],
      "metadata": {
        "id": "9P4_MaXp6O3n"
      }
    },
    {
      "cell_type": "code",
      "source": [
        "RNAseq=Seq(\"AUGGAAGGGAUUAAUCGACCCAAUACAGAACCAUCAAGCUUGCUAAAUGCGAACCACGCCACAGAAAAAAGAGUUCGCAUCGAUCAGUUUGUAGCCGCACUGUUAUAUCCCUUAACUAAACUAGGGCUGUAUCGAAUGGCUUAUCCCCUUCAGCUCAACAACCGAUACGUUAUCCCGCCGGACCGCGUUGACCUGUUUUCCACCGCGUUCCUACCUUGCUUUCGGCCUGUAUAUCUGAUUUGGCACAAACGCGUGUUCGUGCGACAUUUUUUGGCUACACAACGUUUUCGCGUUGAGACCAUUUGUGACCCGAUCGGGAUUGGCCUCUGUGCGUGUUCCAAGUGCGGCAACAUGGAAUACCAGAUAUAUGACCAUUGGGGUCUAAUAGCAACAGGUCCGUGUCCUGAUGUGCGACUCGUGGUUCGCUAUACACUAGCCGUGGGCCUGGCGUUGCGGAUAUUCGUGGUCUCUAGAAAGGUACCACACGUCCAGGCCAAGGAUCUCCCACGGUUUGCCCUUCGCAAACGUGGUGGAGCGCGGCUGUCACGUUUUUAUGACCUCACUCUGUACUUCAUGGAACAAUUCCUGGUAAGGCCCCCUAGCACCACCGGGGCUCAUGCAGAGUCACCCCUAUUAACCAACUUCUUGGGAGGCGUUCGCCGUUUAUUAUUAGCGAGGCAGAACUCGCGGCGGGUUAGGAUCGAUGGUGCUGAAGUUGGUCUGAGACAAAGAGCUAGCGUUGCGCCCACGCCCGUAUAUGUCGCGCGGCUCCUUAGCUUCGAUACCUCCCCCGGUUCUCACUUUAACUCAGGCCUAACCGCAAGUGACCGGUUGAGUGCUCAGUGUAGUCUACAGUACUCUGGAUCCAGGGGUACUAGGGGUGUCGACACAGGCUCGCGCCGACACCAAUGCGGUAGCUUCCGUCGUUACGUGUUAAGGAGGAAGCGGAUAUUCGCCGUGCACCGCUGUCGGGACCUCUGUUAUAUUAGCCUGCGACUUAUUUUUCGAAUGAUCAGAAUCCUCUCAUGCUUUCAGUGGAGACUCCCCCAAGAACUGCUGUCCUUUAGUUUGGGGUACAGGUGGUCGGAAUUUUUUGUCGACGCCGGACACGCGCAUUUAGCAACCACACCCGUCUGGGUGAGCUUACGACGUACGCAUCCUAGUAAAGACCCUUAUGCGCCAUGCGCUAACGAUAAACGGGCAGGUCCAGGCAGACGAUACUUCCUGACCAAUUUUGGCGUUGCUGUGAAAAGUAUCACUGCGUCUAAUAGGACCGUACUUCAUGAUGAGCAGACUGUAAACAGACACAGCGACCUGGGUGACAACCCGAUAUUGCACCGUACUAUGCCAAGCCCCCUCGCGGAUUGGCGAGGGAAGCCGUCCCUACUAGACGUUCUACGAGCUAUGAUGGAUGUCCUUCAUGACGACUUAGUUUAUAACCCUCCUUUCAUAGGAAUCAGAAUUUUUCCUAGGCUUAAGCCGACCGCAGGGUACCUUACACGUGGUUACCGGCCAUCAGACUUACUGAGCCGGGCAUUGAGACUGUUUAAACACCGCUCGACCGUUCACCACAGCCGCCCGCAGGGGGGUACGGCAGGUAGGUUCUCCCGCUUCCACGUAAAUUCAGGCACGGGGUUCGAUCUCGGUGGCGACGAACGCCCGUCUCUAACUAGUCACUGGAUACAGUUGGGGGUACAAUUCGGACACCGGGCAGCACGUUUCCUGUUCUCCCGGCACGGACCCAGCAACAGCGGCGUGCAUUAUGGAACAUUACUAGAAGCUAGGAUAUUAAUCACAGGAGGGUGCGUCCCCAGGAAGCAUUUAGUCGGCACCUCCGACCGGCAAGAUAUACAGGGCUGUGGCUCGAAUGGGGCCCUAAUUCCAAAUUACGAAGAUAUAGCCGGCGAUAGACGACCGGAGCCAUGGCCUCUGCUAGAGCUAUACAGCAUUCCGCCCGAGACCUUGGGAAUAAACGCCCAAAGGCUAGAAUUUUCAACCAACAGGGAAGAUACCAUAGGGACGCUACACUACGCCACGAGGUCUUGCUCACAGCCUCUCUCGGCGCAAUUGAGCAAGAUGAGCAGGCGUAGUCAAUACACUUCGCACUUUUAUACCUCACGUAUAACAUUGAACCCACGCCAUAAAUUCUGCCACCGACACUGUCUUCUAAUCAGGACCCAGAGUGGUAGGCUUUAUUAUUGUAAGUUUUGCGGCCCAACUCAGUUUGGGCAUGACGACGGGAUCGACCGACGUGUGGUAUGUCUGUUGGUACUCAACCGUUACUGGCAGGUACUCCGAACGCGCGUUUCUACUAUCCCACUGCUCAUGCUGGUCUAUUCCGAGUGGAGCUGCACCCUUACACUGGCGGCUCCUGAUCAUACGCAAAAUCACGACCCGGCCGUAAAUGACUACCGAGACCUAAAGAUGUGUCACAAUGAAUCCUGUUUGAUACGUGAGGUUAGUUUUGUCACUAGUAAUCUGCCCGAUUAUCGGUUAUAUUUACUAACUGCCAUGCUCCGCUCUCUCACGUGCUAUGGAUCGGUCGAUGAUGCGGAACUAGAAGAGAAACCGAACAGGUCCUCAACGAGAUCCCCUAAGUCUCACAGAAAGCCUACCAGUCGCCUGUCUGGUCGAGCCGGACUCGCCAAGGGGUCGCAUUACUGCCACUUCAGAGAGUGUACACCCGGCCCCGAACCUCUCAUAAGAAUUACUGGACUACCAGAACUCUUAAAUUCUAACACCCUGUCGUUGGUUAACUGGUCAUAUUCCCUCAAAAAGCCCAACAAUGGUUCUGUCAGCGAGCGCGAUCUAGAGGCCAAGUACUGGCCGAAAGCCACAGCGUUCAGCGUCAGUCAUAGAGGUACACGAUUGCGACAUAUUGUAAGCCAUUCAAACUUUAUCUCGGGCCUAGUCUAUAAUGUAGAAAAUACAUCCAUUACGGUGACACUAUCUUGCUUACCUGAACAAUCCGCUAGUCUUGUUGGGUGUACCAAACACUGGACUGUGACGUCUAUGAAGGACUCAUCCUGUACCGACCCGCCUAUCGAGACCCUUCCCAGUUGCAGAGAUAAUGCUUCCUUGUGUGCUUAUAAUCAGACGUGCGUGGUCACGACGUGCCGGUCGCGCGUAUCCUGCCUGGUCGCACAUAGGUCGGACGGCGAUGGAAAUAAGAUAGGUCAUGGCGGACAUAGGAUUCAGCAAGGACGACACGGCUACAACAAUCCGAUUACCGCAUUGUGUAUGCCCGCCACCCCCUGGUUUGGGUAUACACUCACCGCCAGCCAUACGCCAGAUCACCAAUGCGUUUCGCAUCGUACAUGCUCCAGUACCGUUUUACGCGAAGAAUGCAAAAAAACCGAAGCAUUCUAUACUAAACAUAAAGGGUCACCGACUACUAAAACCCCGAUGGAGCUCUUCCGCGCCAAGGAUAGCGCAUCUCCUCGUAACACCCUUUCCAAACUCCCAAUUGCUAGACUCCCCAGACUCAUCUUAAGUAAUCUGAGCCCCAGACGAGUCAAUGCGAAGAAAAUUAUUCCAAUUGUGCGGGUACACGAACGCAGAUUCCGAGCUCCGAUGCUACCAUUGGAGGUAUACUCUCCACUCCAAGUAUCCGCAGAGUCAAACACUAUCUGCUACUUGAACCUAGCCUGGGAGAACAAGUGCGCCAACCCUUGUACGCCUGGGGUAGUGGACGUGUCAACUAAACGAAUCGAAUCUAUUAACCCAUAUCGCACCAACCCCAGCCAUCUGGUUGUACACGCCAUUGUCGCUUAUAUAGACUUCAUACCCGUGUUGACCGUAGGUAGGGAACGGGGGAGUACUCGCGACGGGAAGCGGCCGGCUAUAUGCCCCGCGUGUCUUCGUCACCCUACCACCUCAUACAGGUUACUAUAUCCAGCCCGAGAGAUCCCAGAACCGCCGUUAAGAAUAGAAAGCUGCGCCAAAGUGGAAGAGUCAUUCUGGGACCCGCGGACCUCAAACCAAUCGUCUCCCCAUAAAGCACGCCCAGACGCCAUUAGUGGUGCGUCCAACGUGGGUGUAUUGCGCAGUAUGCAUCCUUCCAAUGUACAGUUAAGAGAUGUGGAGUAUCCAGAGCAUGAAAAUGACAGCCUUGCUUUCAUUGGAUGCACGCCUUGCGGCCCGGCUGAUAGUGUUAUUAUAACUUCCUGCCGCACAUUCGUUGAUUAUCGAAAGGUAGCAGUAGCAAUUGCCUUUGGAGUGAGGGGACGCACACGAUGUGUGGGUAUAUCAUUCAUUGUCCGGUCAUGUUCGCGGAAGACUUGCCAUGUAUACUUAUACCCGUACUAUCUCGCUCGACCGGGGGCACGAGUAGUCCGACCUGGAACAUUGCGUAUCCAUGCUGGGUCCGGUUUCGACAAACCGACCAUGCUAAUGCGACCUGUCGACUCGGCUGGGGAGGGAUGCGGCUAUAGAGGUGAGCUCCUAGCGCUUACUGAGGGAAGUCAAUGUCAAGCGCCAUACGUCUCUGUCUCAGCGUUGAAAUAUUCGAAGCGGCUGUGCUUGAGAAUACGGAACAUAGCGGAGGAAGGCGCGAAAGCGCACCGACCGGGCAUAAAAAAUCGUGGGCGCACUCCAUCGGUAUGCAGAAAGAGAAACGGGAUAGACCUCAGACGGCUCCCAAACGCUGCAAGGGAACUUAUCGACAUUAUCAGCCUGUGCGGGGACCUCGCAUCCACGAGUGCCUUUUCCGCCUGGACUGCAGCCGACAUGAUAGUAUGUAUCCUUCGCAUAGAGGUACCCUGGCGUGUGCCAUCGGGUGUCGCAGUACGGAACACACGAUGGGAGCGAAGCGGCACAUUUUUUGCUCGUGCGAAGAUUGGGAAUCUGUCCGCCGACGAAAUACAUUUAAGGUAUAAAAGCCUUGCCAGACAGCCGUUGCGAGGGACCAAGUGUCGAUCUGUCAGCGUACGAUGGGAUUGUCGGGUCCCCUUGUCAAGAAUGGCGAUAUCCUUGGGUGAGGGGAGUACGCGCAUAGCCAAAAACGGAUUUAAAUCAAUCGGCCGGUGUCCCUCCGGGUCUAUGUAUAGCACAUGGGUUCUCUCCAGCCGACGAACCAGCGGCCUCAGGGGGAUGCUGGUGGUUCGCCAUCUCUCGAGACGACCUAACCACUUUUCGCGCACCUGGAUUCGACUUAGGCCGUUCAUAAAGGUAUAUCGUCCUACCACCCCACAUGUCUACCGGUUACACAGCAGAUUCACUUUAUACACUGCGCCACUUCUUUCUUCAGGGCGCAUUCGAGUGGGUAAGGACCGCUUUACGACUACUAUCAAUCAUCCUAGCGUUCGGCAAAGGAUCUGCAGAUCCAGAUUCCUCGCUAGGGAUGAUCAUGCGCCGUCACCCGAAACUGCAAUGGGAAGUCUUUUCAGUUUGCGAAGCUACUUCGAUAUGCAAAUGGUGGGAACUUUGCUCGUUCUUAUCGCCCUUGAUUGCUAUAGGUCGUGGAAAGGCGAUGACACCUCGUUUGCUCUAUGGUCCGCCCGCUGGGGAGGUAUCGGGGCGGUCCAUGAAACCACACCUUCCGGGGUCAUGUUGUCUGGGAGAGCGGCUACGACAGUUUAUAUCUAUGUACCCAUCAGGUCAUUUCAUUGUCGAGGCUUCCAAGAGAGUACCCACGCCUACUUGGCAGGCCAAUUUACCAAAGGAGAGAGCAGCUGCCACUACGGCCGAUCAUAUCGGCGCGGGGAUGGGCGCCGCACCUCCUCGCUACACCGCGAUAGUAGACAAGUGAGAAAUGCCUCAUUAGCAUCUCUGGAGCGAGGCGGCCCGCGUGGCAGUCUCGUUUUCGGACCCUUUAGUGCUCAUACGGCCACAGACAGAGUGGCACUUGUUCGUGCCUUGGACUCCUUGCUUGAUAAGAAAGCUGAUGCGUCUGGAGUUAAGCUAGGCUGUCCGCAGCCCGUUCUACACGCCCAUCUGGUGGAACGCUCCCCAAUACCCAGGGGAUCACAGUAUGGUGAAAACGUUGCAACUGGCUCCAACGGAAUGCUCGAUCUUGAAACGGGCAACACCCCAGAACCUUCCGUAUAUACGCGGGUUCAGCCAAGUAGACGAUUCCAGGCAACUGACUCAACCAACAUACGACGCGCCGCCUCGCGACAAGAGGCCGUGCGACUAAAAAAUUUCCGGUCCACCCAUAUCUACAACGAAGAACCGGCGUGUUUAUUGUCCUCGACAAUGAAUAAAAGUGCCGGGGGUUCGCAGAAUACACACGAACGGAACGACCUUCAAAGCGCUGCCUGUUCCUUUUUUUAUUGUGGAUGUACACCAUGCGUCAAAGUGGUUUCCAGUUGCCGGGUAAUAUGGAGUGCAACAAGAUAUCAGGACCCGAAAAGAAAAAAUCGGACUCCAUACAAGUCGAGACCAGACCAGCACUGUAGACGCCCCUAUUGUAACUGGUUGGGUCCUACAUAUUCGGGUUUUCGCGAAUUCAUUCGAGCAGAGAUCCCAGAGACUUCGCCACGUAACAGACUCCGUUACGAUCAAGAAUCUAGUGGGACCGACCCUCACAGUAACCCUUGUUUCUACUCUCUGCAUGAAUCUUCAGCUCAUAGGGCCCGCCGCGCUGAUCCUAUUGCGUUACGUACUCCUAGGGUAUAUAAGCGGCCGUCCUCCGAUCCUUCACAGGCAGGGGAUGUUCCAGCUGAGCUCCCGGUCUCCACAAACCGGCCCCUGAGUACAGAAAUUCUUACACACGAAUCAUUGGGCGUGUCGCACCUCAUUUUCAUAUGCUUAUCCGUGAUAUCUAAGGUACACUUCAGAAGCAACCUUUCUAAGGACCGGUACUUAUUUAAACGCCAACCGAUACUCGACUCGGGCGCGAGUGUUAGCCACCGACCGCAAGAAUUCACGUUGGACAGACGUUCAAUAGAUCCACAUAUGCGGCCCACGCUUGGCGCGCAUAAUCGAUGCGGGCCUACGAGGAAAAAAAAACUACUGCAUUCACUCGAGCUAUUCCGCUUUUCACCCACGUCGCGUUAUUUGAUGGUGACCGUUGGUGCUGGUUCCCAUUCGGCACUGAGUCCCGCGCUGCUAGGGGUAGUGGGGCUAGAAUCAUGCCAGUUUUCAGAUACGAGUCUGCUACGUUUCACUGACGAGUGUCUCAAAUUAAAGAAUCACACGCAAACGCCCCUAGCCAUCCAAAUGGUACCUGAAUUGGGCAAGACUGCUGCUGCUAGAUGCCAUACAGGCCUCCAUAAGUCAAAAUUUCGGGUGGCGAGGACCUCCUCUGUUCCCUAUCGAACGGGUAUAUUUAGUGGCCACUUGUGUUCUGCCAGGCGAGGUAUGCUGGGUAUCGCAGUGUCCCUAAACUACCCACGAAUUUCGGCCCGAAUCAAGUACAGGUUAUAUAUAGGUAGGCUUCAAACCAGGGUUCAUUCAAGCCAUGAGUCUGGACCGGGAUACCGGAGACUCUUUAUCUAUCCUUACAAGUUAACAUUAGAAUCCCUGAGUGGUAAAGCGACGGCUCGAUUGGGCGUCGGCUUUCGCAAGUGUAAGUGGCCUAAAUCUGGGGACAUGAAGGUAUGCAUAGGGAGACUAACGUCCGACGCAAUACUGCCGCUUGCCUACCACAUACCACAUUUUCUAAUGGACCAGAAUUCGUCUCAGUCUGUCUGGUCGAUCUGCUUCUGCGACGUGAAUGAUGUACAAUGCUUUACAACACUAGAGAUUGCUACGGUCUCAAUGCUAGCUACAAUGCGCCAGCCCACACCGAUCGGAGCCCAAAUCGGAUGCGAAGGUACGACCGUCGUCCAGGAGUUCACGAGCGUCGCUUCAGGUUUAGCGCCUCUGCGUGCCUUUCCAGAAUGGUCAUUUGUCGCUCACAUCAACAAGCGUCUCCGGAGUUCAAGCAAAUUAUGGGCAAAUACGCGCUGCCAACCAACGGGUCCAUUCUGUUGCGGCUUUCCCCAGCACAACGGCUUGUACUCGACGAAUGGUCCCCCGUCUCUAGUGCAUGUUCACCAUCUUACGAUGGCUUGCAACUCUCAGGGUACGAUGGUUAGUCUGGGAACUAAGGAGCGUGUAUCAUACCGAAUCCACCCAGUAACUCGAGAACAUAGCAUAGACAUCUUAAGGUGUAUCAUGAGCUUUGCUCGGGAAGAGGAUCCUUUGCGACCUGUACAGUGCGCAAUUGCGGAGGAGGAACUAGUUCCGACUCGGAUUGUCUGCGCACUAAGGACUCUCGCCUGGGCCCUGUGUUCUGGACCCCAUAAUGUCACACUGUCCCGCUGCCGCGCAUUCGCUGCGGUCAAACUCCGGUGGCCUCCGUUAGUGUGUCCGCCCCGGCAUUACCGUACAUUUCACGGCAGGACGCAUGCUUUUACUAUCUUGCCCUGUGCAUCCGUGGCAAUACGCUUCCUUAAAUUCACCGUACUGCCGCUUCGAGUCACAUUUUACGUCCGUCCCAAAGAGGGUGCCCCUAUAUGCCCGCCUAGAGUGCACAGCAGUUACCUGAAAUCUCGUCUACUGCGGGUAGGAACUGUUUAUAGUUGGAACGUAAUGCGAGUAAAGCCCAUCACAUCUGCUGGUGUUCCAUUCAAUGUGGCGGUUUUCGGUGGGAAGAACAGAGCAUCGACUAUAAUGAGCACAGUUGAUUGCCCCACCUUCAAUGGGGGGACCUCAACGUCGCAAAUAACCAACUGGCCCGUAAAUCUCCGCGAGAAAUAUUGUAAGAAGCCAGCUUUUGGAACAGCUGUCCCCUUCCGCGUCCGCAAACUUUUACUAUACAUUAGUCUACCCAGACUUCUCCCCUGUAAAGAAAAGGUUUAUCCCUCACCGGCACGAGGACCCUGCUUAUGUCGGAGGAAAUUGCAGUCCAUUUGCGAUAUGACACGGGGGAACCGUAAAGUUGGUGGCUACCUGGCAGCGCCGCCAGACGCUAGCGAUAAUGUAGCACGAACAAAUUUCUCUCAGCGCGUUGCAAUCAAAACUGCCGUAGUCAACGCACAAUUGCCCGCAACCACAAUGCACGACAUUUACCUGGAUAUAUCCCUUACUCCGGCAGCUGUCGAAGUGUUUAAAGACGGCAACACUAUUCGAAAUGACAAAUGUUCAGCACCCUCAUGGGGCUCGUCUUUGGGGCAGGCGAAAUUGUGGACCUUAUUCCGACUCCCCUGCCGGGUAUCCCCAGCUGACCUACCACCGCCAAUCUUCGCAAGCCUCAACCUCUUCAGCUCUACGGGAUGA\")\n",
        "\n",
        "print (RNAseq.translate())"
      ],
      "metadata": {
        "id": "5Rzzfzij6q2P",
        "colab": {
          "base_uri": "https://localhost:8080/"
        },
        "outputId": "fd16c9d1-d1d8-425e-c156-a1b652758f82"
      },
      "execution_count": 80,
      "outputs": [
        {
          "output_type": "stream",
          "name": "stdout",
          "text": [
            "MEGINRPNTEPSSLLNANHATEKRVRIDQFVAALLYPLTKLGLYRMAYPLQLNNRYVIPPDRVDLFSTAFLPCFRPVYLIWHKRVFVRHFLATQRFRVETICDPIGIGLCACSKCGNMEYQIYDHWGLIATGPCPDVRLVVRYTLAVGLALRIFVVSRKVPHVQAKDLPRFALRKRGGARLSRFYDLTLYFMEQFLVRPPSTTGAHAESPLLTNFLGGVRRLLLARQNSRRVRIDGAEVGLRQRASVAPTPVYVARLLSFDTSPGSHFNSGLTASDRLSAQCSLQYSGSRGTRGVDTGSRRHQCGSFRRYVLRRKRIFAVHRCRDLCYISLRLIFRMIRILSCFQWRLPQELLSFSLGYRWSEFFVDAGHAHLATTPVWVSLRRTHPSKDPYAPCANDKRAGPGRRYFLTNFGVAVKSITASNRTVLHDEQTVNRHSDLGDNPILHRTMPSPLADWRGKPSLLDVLRAMMDVLHDDLVYNPPFIGIRIFPRLKPTAGYLTRGYRPSDLLSRALRLFKHRSTVHHSRPQGGTAGRFSRFHVNSGTGFDLGGDERPSLTSHWIQLGVQFGHRAARFLFSRHGPSNSGVHYGTLLEARILITGGCVPRKHLVGTSDRQDIQGCGSNGALIPNYEDIAGDRRPEPWPLLELYSIPPETLGINAQRLEFSTNREDTIGTLHYATRSCSQPLSAQLSKMSRRSQYTSHFYTSRITLNPRHKFCHRHCLLIRTQSGRLYYCKFCGPTQFGHDDGIDRRVVCLLVLNRYWQVLRTRVSTIPLLMLVYSEWSCTLTLAAPDHTQNHDPAVNDYRDLKMCHNESCLIREVSFVTSNLPDYRLYLLTAMLRSLTCYGSVDDAELEEKPNRSSTRSPKSHRKPTSRLSGRAGLAKGSHYCHFRECTPGPEPLIRITGLPELLNSNTLSLVNWSYSLKKPNNGSVSERDLEAKYWPKATAFSVSHRGTRLRHIVSHSNFISGLVYNVENTSITVTLSCLPEQSASLVGCTKHWTVTSMKDSSCTDPPIETLPSCRDNASLCAYNQTCVVTTCRSRVSCLVAHRSDGDGNKIGHGGHRIQQGRHGYNNPITALCMPATPWFGYTLTASHTPDHQCVSHRTCSSTVLREECKKTEAFYTKHKGSPTTKTPMELFRAKDSASPRNTLSKLPIARLPRLILSNLSPRRVNAKKIIPIVRVHERRFRAPMLPLEVYSPLQVSAESNTICYLNLAWENKCANPCTPGVVDVSTKRIESINPYRTNPSHLVVHAIVAYIDFIPVLTVGRERGSTRDGKRPAICPACLRHPTTSYRLLYPAREIPEPPLRIESCAKVEESFWDPRTSNQSSPHKARPDAISGASNVGVLRSMHPSNVQLRDVEYPEHENDSLAFIGCTPCGPADSVIITSCRTFVDYRKVAVAIAFGVRGRTRCVGISFIVRSCSRKTCHVYLYPYYLARPGARVVRPGTLRIHAGSGFDKPTMLMRPVDSAGEGCGYRGELLALTEGSQCQAPYVSVSALKYSKRLCLRIRNIAEEGAKAHRPGIKNRGRTPSVCRKRNGIDLRRLPNAARELIDIISLCGDLASTSAFSAWTAADMIVCILRIEVPWRVPSGVAVRNTRWERSGTFFARAKIGNLSADEIHLRYKSLARQPLRGTKCRSVSVRWDCRVPLSRMAISLGEGSTRIAKNGFKSIGRCPSGSMYSTWVLSSRRTSGLRGMLVVRHLSRRPNHFSRTWIRLRPFIKVYRPTTPHVYRLHSRFTLYTAPLLSSGRIRVGKDRFTTTINHPSVRQRICRSRFLARDDHAPSPETAMGSLFSLRSYFDMQMVGTLLVLIALDCYRSWKGDDTSFALWSARWGGIGAVHETTPSGVMLSGRAATTVYIYVPIRSFHCRGFQESTHAYLAGQFTKGESSCHYGRSYRRGDGRRTSSLHRDSRQVRNASLASLERGGPRGSLVFGPFSAHTATDRVALVRALDSLLDKKADASGVKLGCPQPVLHAHLVERSPIPRGSQYGENVATGSNGMLDLETGNTPEPSVYTRVQPSRRFQATDSTNIRRAASRQEAVRLKNFRSTHIYNEEPACLLSSTMNKSAGGSQNTHERNDLQSAACSFFYCGCTPCVKVVSSCRVIWSATRYQDPKRKNRTPYKSRPDQHCRRPYCNWLGPTYSGFREFIRAEIPETSPRNRLRYDQESSGTDPHSNPCFYSLHESSAHRARRADPIALRTPRVYKRPSSDPSQAGDVPAELPVSTNRPLSTEILTHESLGVSHLIFICLSVISKVHFRSNLSKDRYLFKRQPILDSGASVSHRPQEFTLDRRSIDPHMRPTLGAHNRCGPTRKKKLLHSLELFRFSPTSRYLMVTVGAGSHSALSPALLGVVGLESCQFSDTSLLRFTDECLKLKNHTQTPLAIQMVPELGKTAAARCHTGLHKSKFRVARTSSVPYRTGIFSGHLCSARRGMLGIAVSLNYPRISARIKYRLYIGRLQTRVHSSHESGPGYRRLFIYPYKLTLESLSGKATARLGVGFRKCKWPKSGDMKVCIGRLTSDAILPLAYHIPHFLMDQNSSQSVWSICFCDVNDVQCFTTLEIATVSMLATMRQPTPIGAQIGCEGTTVVQEFTSVASGLAPLRAFPEWSFVAHINKRLRSSSKLWANTRCQPTGPFCCGFPQHNGLYSTNGPPSLVHVHHLTMACNSQGTMVSLGTKERVSYRIHPVTREHSIDILRCIMSFAREEDPLRPVQCAIAEEELVPTRIVCALRTLAWALCSGPHNVTLSRCRAFAAVKLRWPPLVCPPRHYRTFHGRTHAFTILPCASVAIRFLKFTVLPLRVTFYVRPKEGAPICPPRVHSSYLKSRLLRVGTVYSWNVMRVKPITSAGVPFNVAVFGGKNRASTIMSTVDCPTFNGGTSTSQITNWPVNLREKYCKKPAFGTAVPFRVRKLLLYISLPRLLPCKEKVYPSPARGPCLCRRKLQSICDMTRGNRKVGGYLAAPPDASDNVARTNFSQRVAIKTAVVNAQLPATTMHDIYLDISLTPAAVEVFKDGNTIRNDKCSAPSWGSSLGQAKLWTLFRLPCRVSPADLPPPIFASLNLFSSTG*\n"
          ]
        }
      ]
    },
    {
      "cell_type": "markdown",
      "source": [
        "####**<font color=crimson>TASK 21.3 Commit to GitHub**</font>"
      ],
      "metadata": {
        "id": "dvtR4N7L6sZ_"
      }
    },
    {
      "cell_type": "markdown",
      "source": [
        "#<font color=blue>**P22.**</font> SeqIO – a function to parse( ) sequence files"
      ],
      "metadata": {
        "id": "bDJqtRiX3fEG"
      }
    },
    {
      "cell_type": "markdown",
      "source": [
        "####**TASK BP 22.1** Read in the practice dataset from Rosalind #9 and print the id of each sequence in the file."
      ],
      "metadata": {
        "id": "VKyMhLjx7nIo"
      }
    },
    {
      "cell_type": "code",
      "source": [
        "from Bio.SeqIO import parse\n",
        "\n",
        "for seq_record in parse(\"practice_9.txt\", \"fasta\"):\n",
        "    print (seq_record.id)\n",
        "    print (seq_record.seq)\n",
        "    print (len(seq_record.seq))\n",
        "    print (seq_record)"
      ],
      "metadata": {
        "colab": {
          "base_uri": "https://localhost:8080/"
        },
        "id": "xUi3JEoh7yJ6",
        "outputId": "07cd9046-18b2-443a-f7b9-e2f598765876"
      },
      "execution_count": 110,
      "outputs": [
        {
          "output_type": "stream",
          "name": "stdout",
          "text": [
            "Rosalind_6404\n",
            "CCTGCGGAAGATCGGCACTAGAATAGCCAGAACCGTTTCTCTGAGGCTTCCGGCCTTCCCTCCCACTAATAATTCTGAGG\n",
            "80\n",
            "ID: Rosalind_6404\n",
            "Name: Rosalind_6404\n",
            "Description: Rosalind_6404\n",
            "Number of features: 0\n",
            "Seq('CCTGCGGAAGATCGGCACTAGAATAGCCAGAACCGTTTCTCTGAGGCTTCCGGC...AGG')\n",
            "Rosalind_5959\n",
            "CCATCGGTAGCGCATCCTTAGTCCAATTAAGTCCCTATCCAGGCGCTCCGCCGAAGGTCTATATCCATTTGTCAGCAGACACGC\n",
            "84\n",
            "ID: Rosalind_5959\n",
            "Name: Rosalind_5959\n",
            "Description: Rosalind_5959\n",
            "Number of features: 0\n",
            "Seq('CCATCGGTAGCGCATCCTTAGTCCAATTAAGTCCCTATCCAGGCGCTCCGCCGA...CGC')\n",
            "Rosalind_0808\n",
            "CCACCCTCGTGGTATGGCTAGGCATTCAGGAACCGGAGAACGCTTCAGACCAGCCCGGACTGGGAACCTGCGGGCAGTAGGTGGAAT\n",
            "87\n",
            "ID: Rosalind_0808\n",
            "Name: Rosalind_0808\n",
            "Description: Rosalind_0808\n",
            "Number of features: 0\n",
            "Seq('CCACCCTCGTGGTATGGCTAGGCATTCAGGAACCGGAGAACGCTTCAGACCAGC...AAT')\n"
          ]
        }
      ]
    },
    {
      "cell_type": "markdown",
      "source": [
        "#<font color=blue>**P23.**</font> SeqUtils.gc_fraction( ) – a function to compute GC content"
      ],
      "metadata": {
        "id": "SAjUYBpe3pwi"
      }
    },
    {
      "cell_type": "markdown",
      "source": [
        "####**TASK P23.1** Modify the script from TASK P22.1 so that it prints the GC content for each sequence in the file"
      ],
      "metadata": {
        "id": "kEjUu8HfHniC"
      }
    },
    {
      "cell_type": "code",
      "source": [
        "from Bio.SeqIO import parse\n",
        "from Bio.SeqUtils import gc_fraction\n",
        "\n",
        "for seq_record in parse(\"practice_9.txt\", \"fasta\"):\n",
        "    print (gc_fraction(seq_record))"
      ],
      "metadata": {
        "colab": {
          "base_uri": "https://localhost:8080/"
        },
        "id": "EFViSnSEa6fZ",
        "outputId": "8e5b2990-39f7-4bfd-b82d-773fad6244be"
      },
      "execution_count": 111,
      "outputs": [
        {
          "output_type": "stream",
          "name": "stdout",
          "text": [
            "0.5375\n",
            "0.5357142857142857\n",
            "0.6091954022988506\n"
          ]
        }
      ]
    },
    {
      "cell_type": "markdown",
      "source": [
        "####**TASK P23.2** <font color=orange> **Complete Rosalind #9  Computing GC Content**</font>"
      ],
      "metadata": {
        "id": "nJeXcQR7HwOf"
      }
    },
    {
      "cell_type": "code",
      "source": [
        "from Bio.SeqIO import parse\n",
        "from Bio.SeqUtils import gc_fraction\n",
        "max_gc=0\n",
        "max_id=\"\"\n",
        "\n",
        "for seq_record in parse(\"rosalind_gc9.txt\", \"fasta\"):\n",
        "    if gc_fraction(seq_record)>max_gc:\n",
        "        max_gc=gc_fraction(seq_record)\n",
        "        max_id=seq_record.id\n",
        "    else:\n",
        "        continue\n",
        "\n",
        "print (max_id)\n",
        "print (max_gc*100)"
      ],
      "metadata": {
        "colab": {
          "base_uri": "https://localhost:8080/"
        },
        "id": "i27jy4Zxdhbt",
        "outputId": "e9c9f439-4bc8-46bd-f85b-6518127f0b3d"
      },
      "execution_count": 121,
      "outputs": [
        {
          "output_type": "stream",
          "name": "stdout",
          "text": [
            "Rosalind_4064\n",
            "53.054662379421224\n"
          ]
        }
      ]
    },
    {
      "cell_type": "markdown",
      "source": [
        "####**<font color=crimson>TASK 23.3 Commit to GitHub**</font>"
      ],
      "metadata": {
        "id": "gavUUL39INzP"
      }
    },
    {
      "cell_type": "markdown",
      "source": [],
      "metadata": {
        "id": "Zf_OZq9R0dnq"
      }
    }
  ]
}